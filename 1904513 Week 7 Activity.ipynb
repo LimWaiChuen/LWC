{
 "cells": [
  {
   "cell_type": "code",
   "execution_count": 1,
   "id": "8547f575",
   "metadata": {},
   "outputs": [],
   "source": [
    "import numpy as np\n",
    "import cv2 as cv\n",
    "import matplotlib.pyplot as plt"
   ]
  },
  {
   "cell_type": "code",
   "execution_count": 7,
   "id": "a4bbf593",
   "metadata": {},
   "outputs": [
    {
     "data": {
      "text/plain": [
       "<function destroyAllWindows>"
      ]
     },
     "execution_count": 7,
     "metadata": {},
     "output_type": "execute_result"
    }
   ],
   "source": [
    "#1\n",
    "img = cv.imread('lena.jfif', 0)\n",
    "eq = cv.equalizeHist(img)\n",
    "eq2 = cv.equalizeHist(eq)\n",
    "\n",
    "cv.imshow('Histogram equalization',np.hstack((img,eq,eq2)))\n",
    "cv.waitKey(0)\n",
    "cv.destroyAllWindows"
   ]
  },
  {
   "cell_type": "markdown",
   "id": "381ccf2a",
   "metadata": {},
   "source": [
    "No different between first and second image"
   ]
  },
  {
   "cell_type": "code",
   "execution_count": 33,
   "id": "b6333539",
   "metadata": {},
   "outputs": [],
   "source": [
    "#2A-B\n",
    "img=cv.imread('electronic.jfif',0)\n",
    "img_blur = cv.GaussianBlur(img, (5, 5), 0)\n",
    "\n",
    "sobelx = cv.Sobel(img, cv.CV_64F, 1, 0, ksize = 1)\n",
    "sobelx_blur = cv.Sobel(img_blur, cv.CV_64F, 1, 0, ksize = 1)\n",
    "sobelx_8u = np.uint8(np.absolute(sobelx))\n",
    "sobelx_8u_blur = np.uint8(np.absolute(sobelx_blur))\n",
    "\n",
    "sobely = cv.Sobel(img, cv.CV_64F, 0, 1, ksize = 1)\n",
    "sobely_blur = cv.Sobel(img_blur, cv.CV_64F, 0, 1, ksize = 1)\n",
    "sobely_8u = np.uint8(np.absolute(sobely))\n",
    "sobely_8u_blur = np.uint8(np.absolute(sobely_blur))\n",
    "\n",
    "res=sobelx_8u+sobely_8u\n",
    "res_blur=sobelx_8u_blur+sobely_8u_blur\n",
    "\n",
    "cv.imshow('Without Gaussian', res)\n",
    "cv.imshow('With Gaussian', res_blur)\n",
    "\n",
    "cv.waitKey(0)\n",
    "cv.destroyAllWindows()\n",
    "\n"
   ]
  },
  {
   "cell_type": "code",
   "execution_count": 35,
   "id": "fb2e9b95",
   "metadata": {},
   "outputs": [],
   "source": [
    "#2C\n",
    "laplacian = cv.Laplacian(img, cv.CV_64F,ksize=1)\n",
    "laplacian_blur = cv.Laplacian(img_blur, cv.CV_64F,ksize=1)\n",
    "laplacian_8u = cv.convertScaleAbs(laplacian)\n",
    "laplacian_8u_blur = cv.convertScaleAbs(laplacian_blur)\n",
    "\n",
    "cv.imshow('laplacian without Gaussian',laplacian_8u)\n",
    "cv.imshow('laplacian with Gaussian',laplacian_8u_blur)\n",
    "\n",
    "cv.waitKey(0)\n",
    "cv.destroyAllWindows()"
   ]
  },
  {
   "cell_type": "markdown",
   "id": "0b61c239",
   "metadata": {},
   "source": [
    "kernal with size 1 give a better result\n",
    "The optimal pathway is using the laplacian with Gaussian\n",
    "- Gaussian bluring eliminate the noise occur in the image cause the result to be better\n",
    "- After smoothing the image, lapacian show the edge with less noise than the sobel"
   ]
  },
  {
   "cell_type": "code",
   "execution_count": 42,
   "id": "61bbb88d",
   "metadata": {},
   "outputs": [],
   "source": [
    "#3\n",
    "img = cv.imread('pineapple.jfif', 0)\n",
    "img_blur = cv.GaussianBlur(img, (5, 5), 0)\n",
    "\n",
    "\n",
    "sobelx = cv.Sobel(img_blur, cv.CV_64F, 1, 0, ksize = 3)\n",
    "sobelx_8u = np.uint8(np.absolute(sobelx))\n",
    "sobely = cv.Sobel(img_blur, cv.CV_64F, 0, 1, ksize = 3)\n",
    "sobely_8u = np.uint8(np.absolute(sobely))\n",
    "\n",
    "laplacian = cv.Laplacian(img, cv.CV_64F, ksize = 3)\n",
    "laplacian_8u = np.uint8(np.absolute(laplacian))\n",
    "\n",
    "kernelx = np.array([[1,1,1],[0,0,0],[-1,-1,-1]])\n",
    "kernely = np.array([[-1,0,1],[-1,0,1],[-1,0,1]])\n",
    "img_prewittx = cv.filter2D(img_blur, -1, kernelx)\n",
    "img_prewitty = cv.filter2D(img_blur, -1, kernely)\n",
    "                            \n",
    "scharrx=cv.Scharr(img_blur, cv.CV_64F, 1, 0)\n",
    "scharrx_8u = np.uint8(np.absolute(scharrx))\n",
    "scharry=cv.Scharr(img_blur, cv.CV_64F, 0, 1)\n",
    "scharry_8u = np.uint8(np.absolute(scharry))\n",
    "\n",
    "canny = cv.Canny(img_blur, 100, 200, 3)\n",
    "\n",
    "res=sobelx_8u+sobely_8u\n",
    "res2=scharrx_8u+scharry_8u\n",
    "res3=img_prewittx+img_prewitty\n",
    "\n",
    "cv.imshow('Sobel', res)\n",
    "cv.imshow('Laplacian', laplacian_8u)\n",
    "cv.imshow('Prewitt', res3)\n",
    "cv.imshow('Scharr', res2)\n",
    "cv.imshow('Canny ',canny)\n",
    "\n",
    "\n",
    "cv.waitKey(0)\n",
    "cv.destroyAllWindows()"
   ]
  },
  {
   "cell_type": "markdown",
   "id": "f97f4033",
   "metadata": {},
   "source": [
    "The performance is in order of canny>prewitt>sobel>laplacian>scharr in the edge detection"
   ]
  },
  {
   "cell_type": "code",
   "execution_count": 74,
   "id": "483e1de9",
   "metadata": {},
   "outputs": [],
   "source": [
    "img= cv.imread('electronic.jfif')\n",
    "img= cv.cvtColor(img,cv.COLOR_BGR2RGB)\n",
    "img = cv.GaussianBlur(img,(5,5),0)\n",
    "\n",
    "dark_white = (180,180,180)\n",
    "light_white = (255,255,255)\n",
    "\n",
    "mask = cv.inRange(img,dark_white,light_white)\n",
    "\n",
    "res= cv.bitwise_and(img,img,mask=mask)\n",
    "res = cv.cvtColor(res,cv.COLOR_RGB2GRAY)\n",
    "\n",
    "contour, hierarchy = cv.findContours(res,cv.RETR_TREE,cv.CHAIN_APPROX_SIMPLE)\n",
    "\n",
    "cv.drawContours(img,contour,-1,(0,255,0),2)\n",
    "\n",
    "img= cv.imread('electronic.jfif')\n",
    "\n",
    "c = max(contour, key = cv.contourArea)\n",
    "x,y,w,h = cv.boundingRect(c)\n",
    "cv.rectangle(img,(x,y),(x+w,y+h),(0,255,0),2)\n",
    "\n",
    "    \n",
    "cv.imshow('All contours with bounding box',img)\n",
    "cv.waitKey(0)\n",
    "cv.destroyAllWindows()\n"
   ]
  },
  {
   "cell_type": "code",
   "execution_count": null,
   "id": "9cf3f5aa",
   "metadata": {},
   "outputs": [],
   "source": []
  }
 ],
 "metadata": {
  "kernelspec": {
   "display_name": "Python 3",
   "language": "python",
   "name": "python3"
  },
  "language_info": {
   "codemirror_mode": {
    "name": "ipython",
    "version": 3
   },
   "file_extension": ".py",
   "mimetype": "text/x-python",
   "name": "python",
   "nbconvert_exporter": "python",
   "pygments_lexer": "ipython3",
   "version": "3.8.8"
  }
 },
 "nbformat": 4,
 "nbformat_minor": 5
}
