{
 "cells": [
  {
   "cell_type": "code",
   "execution_count": 1,
   "id": "7ea4de75",
   "metadata": {},
   "outputs": [
    {
     "data": {
      "text/plain": [
       "True"
      ]
     },
     "execution_count": 1,
     "metadata": {},
     "output_type": "execute_result"
    }
   ],
   "source": [
    "import sys\n",
    "# Python 3.7 is required\n",
    "assert sys.version_info >= (3,7)\n",
    "\n",
    "import cv2 as cv\n",
    "import numpy as np\n",
    "\n",
    "# For reproducibility,\n",
    "np.random.seed(99)\n",
    "\n",
    "# Make sure that optimization is enabled\n",
    "if not cv.useOptimized():\n",
    "    cv.setUseOptimized(True)\n",
    "\n",
    "cv.useOptimized()"
   ]
  },
  {
   "cell_type": "code",
   "execution_count": 2,
   "id": "3af84e61",
   "metadata": {},
   "outputs": [],
   "source": [
    "#1 method 1\n",
    "img = cv.imread('lena.jfif')    # default bgr \n",
    "img_grayscale = cv.imread('lena.jfif', 0)    # grayscale\n",
    "\n",
    "cv.imshow('original',img)\n",
    "cv.imshow('gray', img_grayscale)\n",
    "cv.waitKey(0)\n",
    "cv.destroyAllWindows()"
   ]
  },
  {
   "cell_type": "code",
   "execution_count": 3,
   "id": "4ba13c1e",
   "metadata": {},
   "outputs": [],
   "source": [
    "#1 method 2\n",
    "img1 = cv.imread('lena.jfif',)   \n",
    "img2 = cv.cvtColor(img1, cv.COLOR_BGR2GRAY)\n",
    "\n",
    "img3 = cv.cvtColor(img2,cv.COLOR_GRAY2BGR)\n",
    "mergeImg = np.concatenate((img1, img3),axis=1)\n",
    "\n",
    "cv.imshow('Merged',mergeImg)\n",
    "cv.waitKey(0)\n",
    "cv.destroyAllWindows()"
   ]
  },
  {
   "cell_type": "code",
   "execution_count": 4,
   "id": "a9eecae7",
   "metadata": {},
   "outputs": [],
   "source": [
    "#2\n",
    "# Create a VideoCapture object\n",
    "cap = cv.VideoCapture('img_pexels.mp4')\n",
    "w = int(cap.get(3)*0.25)\n",
    "h = int(cap.get(4)*0.25)\n",
    "out = cv.VideoWriter('smaller_img_pexels.mp4', cv.VideoWriter_fourcc(*'mp4v'), 30, (w,h), True)\n",
    "\n",
    "# Check if the object has been created successfully\n",
    "if not cap.isOpened():\n",
    "    print(\"Unable to create video\")\n",
    "\n",
    "# Read until the video is completed.\n",
    "while cap.isOpened():\n",
    "    ret, frame = cap.read()\n",
    "    \n",
    "    # if frame is read then ret is True\n",
    "    if not ret:\n",
    "        print(\"Can't receive frame.\")\n",
    "        break\n",
    "    cap_resize = cv.resize(frame, (w,h), interpolation = cv.INTER_LINEAR)\n",
    "    cv.imshow('frame', cap_resize)\n",
    "    out.write(cap_resize)\n",
    "    # Press Esc key to exit (27 is ASCII code for Esc). cv.waitKey() returns 32 bit integer values. You can find the ASCII table\n",
    "    # on this URL: https://theasciicode.com.ar/\n",
    "    if cv.waitKey(1) & 0xFF == 27:\n",
    "        break\n",
    "        \n",
    "# destroy the constructor\n",
    "cap.release()\n",
    "out.release()\n",
    "cv.destroyAllWindows()"
   ]
  },
  {
   "cell_type": "code",
   "execution_count": 5,
   "id": "6c683212",
   "metadata": {},
   "outputs": [],
   "source": [
    "#3\n",
    "color = np.random.randint(0,255,(500,500,3),dtype = np.uint8)\n",
    "gray = cv.cvtColor(color, cv.COLOR_RGB2GRAY)\n",
    "\n",
    "cv.imshow('color',color)\n",
    "cv.imshow('gray', gray)\n",
    "cv.waitKey(0)\n",
    "cv.destroyAllWindows()\n",
    "\n"
   ]
  },
  {
   "cell_type": "code",
   "execution_count": null,
   "id": "036ed61d",
   "metadata": {},
   "outputs": [],
   "source": []
  },
  {
   "cell_type": "code",
   "execution_count": null,
   "id": "c389345e",
   "metadata": {},
   "outputs": [],
   "source": []
  }
 ],
 "metadata": {
  "kernelspec": {
   "display_name": "Python 3",
   "language": "python",
   "name": "python3"
  },
  "language_info": {
   "codemirror_mode": {
    "name": "ipython",
    "version": 3
   },
   "file_extension": ".py",
   "mimetype": "text/x-python",
   "name": "python",
   "nbconvert_exporter": "python",
   "pygments_lexer": "ipython3",
   "version": "3.8.8"
  }
 },
 "nbformat": 4,
 "nbformat_minor": 5
}
