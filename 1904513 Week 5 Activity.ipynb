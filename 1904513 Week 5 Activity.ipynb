{
 "cells": [
  {
   "cell_type": "code",
   "execution_count": 1,
   "id": "fc13c613",
   "metadata": {},
   "outputs": [
    {
     "data": {
      "text/plain": [
       "True"
      ]
     },
     "execution_count": 1,
     "metadata": {},
     "output_type": "execute_result"
    }
   ],
   "source": [
    "import sys\n",
    "# Python 3.7 is required\n",
    "assert sys.version_info >= (3,7)\n",
    "\n",
    "import cv2 as cv\n",
    "import numpy as np\n",
    "\n",
    "# Make sure that optimization is enabled\n",
    "if not cv.useOptimized():\n",
    "    cv.setUseOptimized(True)\n",
    "\n",
    "cv.useOptimized()"
   ]
  },
  {
   "cell_type": "code",
   "execution_count": null,
   "id": "38d5f039",
   "metadata": {},
   "outputs": [],
   "source": [
    "#Q1\n",
    "def crop_grid(img, num_horizontal_grid, num_vertical_grid, line_color):\n",
    "    img_copy = img.copy()\n",
    "    height, width = img.shape[:2]\n",
    "    M, N = int(height/num_horizontal_grid), int(width/num_vertical_grid)\n",
    "    x1, y1 = 0, 0\n",
    "    for y in range(0, height, M):\n",
    "        for x in range(0, width, N):\n",
    "#         if (height - y) < M or (width - x) < N:\n",
    "#             break\n",
    "            \n",
    "            y1 = y + M    # lower right coordinate that will be used to construct rectangle\n",
    "            x1 = x + N\n",
    "        \n",
    "        # Check whether patch lower right coordinate exceeds image height and width\n",
    "            if x1 >= width and y1 >= height:\n",
    "                x1 = width - 1\n",
    "                y1 = height - 1\n",
    "                tile = img[y:height, x:width]\n",
    "                cv.rectangle(img_copy, (x, y), (x1, y1), line_color, 1)\n",
    "                cv.imshow('tile', tile)\n",
    "        # When patch lower right y-coordinate exceeds patch height\n",
    "            elif y1 >= height:\n",
    "                y1 = height - 1\n",
    "                cv.rectangle(img_copy, (x, y), (x1, y1),line_color, 1)\n",
    "            \n",
    "        # When patch lower right x-coordinate exceeds patch width\n",
    "            elif x1 >= width:\n",
    "                x1 = width - 1\n",
    "                cv.rectangle(img_copy, (x, y), (x1, y1), line_color, 1)\n",
    "        \n",
    "            else:\n",
    "                cv.rectangle(img_copy, (x, y), (x1, y1), line_color, 1)\n",
    "    cv.imshow('patched image', img_copy)\n",
    "    cv.waitKey(0)\n",
    "    cv.destroyAllWindows()\n",
    "\n"
   ]
  },
  {
   "cell_type": "code",
   "execution_count": 9,
   "id": "6a4fab67",
   "metadata": {},
   "outputs": [],
   "source": [
    "#Q1 test\n",
    "img = cv.imread('dog.jfif')\n",
    "crop_grid(img, 9, 9, (0,30,60))"
   ]
  },
  {
   "cell_type": "code",
   "execution_count": 3,
   "id": "6297cde2",
   "metadata": {},
   "outputs": [],
   "source": [
    "#Q2\n",
    "img1 = cv.imread('lena.jfif')\n",
    "img2 = cv.imread('coins.jfif')\n",
    "\n",
    "# Resize img2\n",
    "new_shape = img1.shape[:2]\n",
    "img2 = cv.resize(img2, new_shape)\n",
    "\n",
    "for i in range(20):\n",
    "    dst = cv.addWeighted(img1, 1-i/20, img2,i/20 , 0)\n",
    "    cv.imshow('blend_image', dst)\n",
    "    cv.waitKey(0)\n",
    "    cv.destroyAllWindows()"
   ]
  },
  {
   "cell_type": "code",
   "execution_count": 11,
   "id": "05b58a12",
   "metadata": {},
   "outputs": [],
   "source": [
    "#Q3\n",
    "import imutils\n",
    "\n",
    "img = cv.imread('lena.jfif')\n",
    "rotated_img = imutils.rotate_bound(img, 45)\n",
    "\n",
    "\n",
    "cv.imshow('rotated_image', rotated_img)\n",
    "cv.waitKey(0)\n",
    "cv.destroyAllWindows()"
   ]
  },
  {
   "cell_type": "code",
   "execution_count": 3,
   "id": "bf28bbae",
   "metadata": {},
   "outputs": [],
   "source": [
    "img_bee = cv.imread('native-bee.png')\n",
    "img_flw = cv.imread('flower.jfif')\n",
    "img_bee_copy=img_bee.copy()\n",
    "\n",
    "roi=img_bee[0:183,0:275]\n",
    "img_flw_gray = cv.cvtColor(img_flw,cv.COLOR_BGR2GRAY)\n",
    "ret, mask = cv.threshold(img_flw_gray, 70, 255, cv.THRESH_BINARY)\n",
    "mask_inv = cv.bitwise_not(mask)\n",
    "background = cv.bitwise_and(roi,roi,mask = mask_inv)\n",
    "flw_extract = cv.bitwise_and(img_flw,img_flw,mask = mask)\n",
    "\n",
    "merge_img = cv.bitwise_or(background,flw_extract)\n",
    "img_bee_copy[0:183,0:275] = merge_img\n",
    "\n",
    "cv.imshow('Bee with flower', img_bee_copy)\n",
    "cv.waitKey(0)\n",
    "cv.destroyAllWindows()\n"
   ]
  },
  {
   "cell_type": "code",
   "execution_count": null,
   "id": "1ccc3bbb",
   "metadata": {},
   "outputs": [],
   "source": []
  }
 ],
 "metadata": {
  "kernelspec": {
   "display_name": "Python 3",
   "language": "python",
   "name": "python3"
  },
  "language_info": {
   "codemirror_mode": {
    "name": "ipython",
    "version": 3
   },
   "file_extension": ".py",
   "mimetype": "text/x-python",
   "name": "python",
   "nbconvert_exporter": "python",
   "pygments_lexer": "ipython3",
   "version": "3.8.8"
  }
 },
 "nbformat": 4,
 "nbformat_minor": 5
}
